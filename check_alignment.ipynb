{
 "cells": [
  {
   "cell_type": "code",
   "execution_count": 32,
   "id": "192e0ccd",
   "metadata": {},
   "outputs": [],
   "source": [
    "import zarr\n",
    "from pathlib import Path\n",
    "import warnings\n",
    "warnings.filterwarnings('ignore')\n",
    "import pandas as pd\n",
    "import numpy as np"
   ]
  },
  {
   "cell_type": "code",
   "execution_count": 33,
   "id": "d676b2cd",
   "metadata": {},
   "outputs": [],
   "source": [
    "def build_mission_root(dataset_folder, mission):\n",
    "    base = Path(dataset_folder) / mission / \"data\"\n",
    "    mission_root = {}\n",
    "\n",
    "    for d in sorted(base.iterdir()):\n",
    "        if d.is_dir() and (d / \".zgroup\").exists():\n",
    "            try:\n",
    "                g = zarr.open_group(store=zarr.storage.LocalStore(str(d)), mode=\"r\")\n",
    "                mission_root[d.name] = g\n",
    "            except Exception as e:\n",
    "                print(f\"[skip] {d.name}: {e}\")\n",
    "\n",
    "    return mission_root\n",
    "\n",
    "dataset_folder = Path(\"~/grand_tour_dataset/missions\").expanduser()\n",
    "mission = \"2024-10-01-11-47-44\"\n",
    "\n",
    "mission_root = build_mission_root(dataset_folder, mission)"
   ]
  },
  {
   "cell_type": "code",
   "execution_count": 34,
   "id": "d492bc9b",
   "metadata": {},
   "outputs": [
    {
     "name": "stdout",
     "output_type": "stream",
     "text": [
      "[1727776101.9499006, 1727776102.0498998, 1727776102.1498995]\n"
     ]
    }
   ],
   "source": [
    "sensor = \"alphasense_front_center\"\n",
    "sensor_timestamp = mission_root[sensor][\"timestamp\"]\n",
    "print([float(x) for x in sensor_timestamp[0:3]])"
   ]
  },
  {
   "cell_type": "code",
   "execution_count": 35,
   "id": "fbc45523",
   "metadata": {},
   "outputs": [],
   "source": [
    "sensors = [\n",
    "    \"anymal_state_odometry\",\n",
    "    \"anymal_state_state_estimator\",\n",
    "    \"anymal_imu\",\n",
    "    \"anymal_state_actuator\",\n",
    "    \"anymal_command_twist\",\n",
    "    \"hdr_front\",\n",
    "    \"hdr_left\",\n",
    "    \"hdr_right\"\n",
    "]"
   ]
  },
  {
   "cell_type": "code",
   "execution_count": 80,
   "id": "a0a12a8c",
   "metadata": {},
   "outputs": [
    {
     "name": "stdout",
     "output_type": "stream",
     "text": [
      "anymal_state_odometry (8663,)\n",
      "anymal_state_odometry [1727776102.0414767, 1727776102.091169, 1727776102.1411698] [32483, 32484, 32485]\n",
      "\n",
      "anymal_state_state_estimator (173589,)\n",
      "anymal_state_state_estimator [1727776101.9687588, 1727776101.9711988, 1727776101.9738283] [156196, 156197, 156198]\n",
      "\n",
      "anymal_imu (173529,)\n",
      "anymal_imu [1727776102.0004063, 1727776102.0029066, 1727776102.0054193] [650125, 650126, 650127]\n",
      "\n",
      "anymal_state_actuator (173318,)\n",
      "anymal_state_actuator [1727776102.0015798, 1727776102.0039406, 1727776102.0065126] [0, 0, 0]\n",
      "\n",
      "anymal_command_twist (5739,)\n",
      "anymal_command_twist [1727776107.42612, 1727776107.4762018, 1727776107.5262368] [9609, 9610, 9611]\n",
      "\n",
      "hdr_front (4226,)\n",
      "hdr_front [1727776102.0117338, 1727776102.111734, 1727776102.2117333] [322, 323, 324]\n",
      "\n",
      "hdr_left (4226,)\n",
      "hdr_left [1727776102.0117338, 1727776102.111734, 1727776102.2117333] [334, 335, 336]\n",
      "\n",
      "hdr_right (4226,)\n",
      "hdr_right [1727776102.0117338, 1727776102.111734, 1727776102.2117333] [309, 310, 311]\n",
      "\n"
     ]
    }
   ],
   "source": [
    "idx_start = 0\n",
    "idx_range = 3\n",
    "for s in sensors:\n",
    "    sensor_timestamp = mission_root[s][\"timestamp\"]\n",
    "    sensor_seqid = mission_root[s][\"sequence_id\"]\n",
    "    print(f\"{s} {sensor_seqid.shape}\")\n",
    "    print(f\"{s} {[float(x) for x in sensor_timestamp[idx_start:idx_start+idx_range]]} {[int(x) for x in sensor_seqid[idx_start:idx_start+idx_range]]}\")\n",
    "    print()"
   ]
  },
  {
   "cell_type": "code",
   "execution_count": null,
   "id": "a9a39789",
   "metadata": {},
   "outputs": [
    {
     "name": "stdout",
     "output_type": "stream",
     "text": [
      "FOUND: index=45, timestamp=1727776106.5117347\n",
      "FOUND: index=46, timestamp=1727776106.6117349\n",
      "FOUND: index=47, timestamp=1727776106.711735\n",
      "FOUND: index=48, timestamp=1727776106.8117344\n",
      "FOUND: index=49, timestamp=1727776106.911736\n",
      "FOUND: index=50, timestamp=1727776107.0117345\n",
      "FOUND: index=51, timestamp=1727776107.1117363\n",
      "FOUND: index=52, timestamp=1727776107.2117343\n",
      "FOUND: index=53, timestamp=1727776107.3117344\n",
      "FOUND: index=54, timestamp=1727776107.4117353\n",
      "FOUND: index=55, timestamp=1727776107.511734\n",
      "FOUND: index=56, timestamp=1727776107.611735\n",
      "FOUND: index=57, timestamp=1727776107.711735\n",
      "FOUND: index=58, timestamp=1727776107.8117359\n",
      "FOUND: index=59, timestamp=1727776107.9117343\n",
      "FOUND: index=60, timestamp=1727776108.0117345\n",
      "FOUND: index=61, timestamp=1727776108.1117346\n",
      "FOUND: index=62, timestamp=1727776108.2117345\n",
      "FOUND: index=63, timestamp=1727776108.311734\n",
      "FOUND: index=64, timestamp=1727776108.4117339\n"
     ]
    }
   ],
   "source": [
    "\n",
    "target = 1727776107.42612\n",
    "\n",
    "timestamps = np.array(mission_root[\"hdr_front\"][\"timestamp\"])\n",
    "\n",
    "lower_bound_mask = timestamps >= target - 1\n",
    "upper_bound_mask = timestamps <= target + 1\n",
    "\n",
    "combined_mask = lower_bound_mask & upper_bound_mask\n",
    "found_indices = np.where(combined_mask)[0]\n",
    "\n",
    "for i in found_indices:\n",
    "    print(f\"FOUND: index={i}, timestamp={timestamps[i]}\")\n",
    "\n",
    "\n",
    "# around the 50th image is when the first command comes so the robot starts moving."
   ]
  },
  {
   "cell_type": "code",
   "execution_count": 60,
   "id": "8cc8b7a1",
   "metadata": {},
   "outputs": [
    {
     "name": "stdout",
     "output_type": "stream",
     "text": [
      "LF_FOOT_friction_coef (173589,)\n",
      "LF_FOOT_restitution_coef (173589,)\n",
      "LF_FOOT_contact (173589,)\n",
      "joint_efforts (173589, 12)\n",
      "joint_velocities (173589, 12)\n",
      "joint_accelerations (173589, 12)\n",
      "LF_FOOT_state (173589,)\n",
      "joint_positions (173589, 12)\n",
      "LF_FOOT_normal (173589, 3)\n",
      "LH_FOOT_friction_coef (173589,)\n",
      "LF_FOOT_wrench_force (173589, 3)\n",
      "LH_FOOT_normal (173589, 3)\n",
      "LH_FOOT_state (173589,)\n",
      "LH_FOOT_restitution_coef (173589,)\n",
      "LH_FOOT_wrench_force (173589, 3)\n",
      "LH_FOOT_contact (173589,)\n",
      "LF_FOOT_wrench_torque (173589, 3)\n",
      "pose_pos (173589, 3)\n",
      "RF_FOOT_friction_coef (173589,)\n",
      "LH_FOOT_wrench_torque (173589, 3)\n",
      "RF_FOOT_contact (173589,)\n",
      "RF_FOOT_restitution_coef (173589,)\n",
      "RF_FOOT_normal (173589, 3)\n",
      "RF_FOOT_wrench_force (173589, 3)\n",
      "RF_FOOT_wrench_torque (173589, 3)\n",
      "RF_FOOT_state (173589,)\n",
      "pose_orien (173589, 4)\n",
      "RH_FOOT_normal (173589, 3)\n",
      "RH_FOOT_contact (173589,)\n",
      "RH_FOOT_friction_coef (173589,)\n",
      "RH_FOOT_restitution_coef (173589,)\n",
      "RH_FOOT_state (173589,)\n",
      "RH_FOOT_wrench_torque (173589, 3)\n",
      "RH_FOOT_wrench_force (173589, 3)\n",
      "sequence_id (173589,)\n",
      "timestamp (173589,)\n",
      "twist_lin (173589, 3)\n",
      "twist_ang (173589, 3)\n"
     ]
    }
   ],
   "source": [
    "sensor = mission_root[\"anymal_state_state_estimator\"]\n",
    "for f in list(sensor.keys()):\n",
    "    print(f\"{f} {sensor[f].shape}\")\n"
   ]
  },
  {
   "cell_type": "code",
   "execution_count": null,
   "id": "1eb4020e",
   "metadata": {},
   "outputs": [],
   "source": [
    "sensor = mission_root[\"anymal_imu\"]\n",
    "imu_df = pd.DataFrame({\n",
    "    \"timestamp\": imu[\"timestamp\"][:],\n",
    "    \"sequence_id\": imu[\"sequence_id\"][:],\n",
    "    \"ang_vel_x\": imu[\"ang_vel\"][:, 0],\n",
    "    \"ang_vel_y\": imu[\"ang_vel\"][:, 1],\n",
    "    \"ang_vel_z\": imu[\"ang_vel\"][:, 2],\n",
    "    \"lin_acc_x\": imu[\"lin_acc\"][:, 0],\n",
    "    \"lin_acc_y\": imu[\"lin_acc\"][:, 1],\n",
    "    \"lin_acc_z\": imu[\"lin_acc\"][:, 2],\n",
    "    \"orien_w\": imu[\"orien\"][:, 0],\n",
    "    \"orien_x\": imu[\"orien\"][:, 1],\n",
    "    \"orien_y\": imu[\"orien\"][:, 2],\n",
    "    \"orien_z\": imu[\"orien\"][:, 3],\n",
    "})"
   ]
  },
  {
   "cell_type": "code",
   "execution_count": null,
   "id": "9a133074",
   "metadata": {},
   "outputs": [],
   "source": [
    "tstmp = mission_root[\"hdr_front\"][\"timestamp\"]\n",
    "min_t = tstmp[135]-2\n",
    "max_t = tstmp[146]+2 "
   ]
  },
  {
   "cell_type": "code",
   "execution_count": 56,
   "id": "006cef24",
   "metadata": {},
   "outputs": [],
   "source": [
    "imu_window = imu_df[(imu_df[\"timestamp\"] >= min_t) & (imu_df[\"timestamp\"] <= max_t)]"
   ]
  },
  {
   "cell_type": "code",
   "execution_count": 58,
   "id": "bec0cdd8",
   "metadata": {},
   "outputs": [],
   "source": [
    "imu_window.to_csv(\"imu_window.csv\", index=False)"
   ]
  },
  {
   "cell_type": "code",
   "execution_count": null,
   "id": "d179deff",
   "metadata": {},
   "outputs": [],
   "source": [
    "\n",
    "\n",
    "est = mission_root[\"anymal_state_state_estimator\"]\n",
    "\n",
    "# Core arrays\n",
    "ts   = est[\"timestamp\"][:].astype(np.float64)             # (N,)\n",
    "seq  = est[\"sequence_id\"][:].astype(np.int64)             # (N,)\n",
    "q    = est[\"joint_positions\"][:]                          # (N, 12)\n",
    "qd   = est[\"joint_velocities\"][:]                         # (N, 12)\n",
    "qdd  = est[\"joint_accelerations\"][:]                      # (N, 12)\n",
    "\n",
    "# Base pose & twist\n",
    "pose_pos   = est[\"pose_pos\"][:]                           # (N, 3) -> x,y,z\n",
    "pose_orien = est[\"pose_orien\"][:]                         # (N, 4) -> quat (x,y,z,w)\n",
    "twist_lin  = est[\"twist_lin\"][:]                          # (N, 3) -> vx,vy,vz\n",
    "twist_ang  = est[\"twist_ang\"][:]                          # (N, 3) -> wx,wy,wz\n",
    "\n",
    "# Per-leg contacts (assumed 0/1 or small int)\n",
    "LFc = est[\"LF_FOOT_contact\"][:]\n",
    "LHc = est[\"LH_FOOT_contact\"][:]\n",
    "RFc = est[\"RF_FOOT_contact\"][:]\n",
    "RHc = est[\"RH_FOOT_contact\"][:]\n",
    "\n",
    "# Per-leg wrenches; use Z (normal load) as the main signal\n",
    "LF_F = est[\"LF_FOOT_wrench_force\"][:]                     # (N, 3)\n",
    "LH_F = est[\"LH_FOOT_wrench_force\"][:]\n",
    "RF_F = est[\"RF_FOOT_wrench_force\"][:]\n",
    "RH_F = est[\"RH_FOOT_wrench_force\"][:]\n",
    "\n",
    "# ----- Helpers -----\n",
    "def quat_to_euler_xyz(q):\n",
    "    \"\"\"\n",
    "    q: (..., 4) quaternion in (x, y, z, w) convention.\n",
    "    returns roll (x), pitch (y), yaw (z) in radians.\n",
    "    \"\"\"\n",
    "    x, y, z, w = q[...,0], q[...,1], q[...,2], q[...,3]\n",
    "    # roll (x-axis)\n",
    "    t0 = +2.0*(w*x + y*z)\n",
    "    t1 = +1.0 - 2.0*(x*x + y*y)\n",
    "    roll = np.arctan2(t0, t1)\n",
    "    # pitch (y-axis)\n",
    "    t2 = +2.0*(w*y - z*x)\n",
    "    t2 = np.clip(t2, -1.0, 1.0)\n",
    "    pitch = np.arcsin(t2)\n",
    "    # yaw (z-axis)\n",
    "    t3 = +2.0*(w*z + x*y)\n",
    "    t4 = +1.0 - 2.0*(y*y + z*z)\n",
    "    yaw = np.arctan2(t3, t4)\n",
    "    return roll, pitch, yaw\n",
    "\n",
    "roll, pitch, yaw = quat_to_euler_xyz(pose_orien)\n",
    "\n",
    "# ----- Build joint column names -----\n",
    "J = q.shape[1]  # expect 12\n",
    "pos_cols = [f\"q_{j}\"   for j in range(J)]\n",
    "vel_cols = [f\"qd_{j}\"  for j in range(J)]\n",
    "acc_cols = [f\"qdd_{j}\" for j in range(J)]\n",
    "\n",
    "# ----- Assemble DataFrame -----\n",
    "est_df = pd.DataFrame({\n",
    "    \"timestamp\": ts,\n",
    "    \"sequence_id\": seq,\n",
    "    # base pose\n",
    "    \"base_x\": pose_pos[:,0],\n",
    "    \"base_y\": pose_pos[:,1],\n",
    "    \"base_z\": pose_pos[:,2],\n",
    "    # base orientation (Euler, radians)\n",
    "    \"roll\":  roll,\n",
    "    \"pitch\": pitch,\n",
    "    \"yaw\":   yaw,\n",
    "    # base twist\n",
    "    \"vx\": twist_lin[:,0],\n",
    "    \"vy\": twist_lin[:,1],\n",
    "    \"vz\": twist_lin[:,2],\n",
    "    \"wx\": twist_ang[:,0],\n",
    "    \"wy\": twist_ang[:,1],\n",
    "    \"wz\": twist_ang[:,2],\n",
    "    # per-leg contacts\n",
    "    \"LF_contact\": LFc.astype(np.int8),\n",
    "    \"LH_contact\": LHc.astype(np.int8),\n",
    "    \"RF_contact\": RFc.astype(np.int8),\n",
    "    \"RH_contact\": RHc.astype(np.int8),\n",
    "    # per-leg vertical GRF (normal loads)\n",
    "    \"LF_Fz\": LF_F[:,2],\n",
    "    \"LH_Fz\": LH_F[:,2],\n",
    "    \"RF_Fz\": RF_F[:,2],\n",
    "    \"RH_Fz\": RH_F[:,2],\n",
    "})\n",
    "\n",
    "# total normal load (sum of feet)\n",
    "est_df[\"sum_Fz\"] = est_df[[\"LF_Fz\",\"LH_Fz\",\"RF_Fz\",\"RH_Fz\"]].sum(axis=1)\n",
    "\n",
    "# Add joint arrays (positions/velocities/accelerations)\n",
    "est_df[pos_cols] = q\n",
    "est_df[vel_cols] = qd\n",
    "est_df[acc_cols] = qdd\n"
   ]
  },
  {
   "cell_type": "code",
   "execution_count": 85,
   "id": "e9644b42",
   "metadata": {},
   "outputs": [],
   "source": [
    "est_window = est_df[(est_df[\"timestamp\"] >= min_t) & (est_df[\"timestamp\"] <= max_t)].reset_index(drop=True)"
   ]
  },
  {
   "cell_type": "code",
   "execution_count": 86,
   "id": "078d7287",
   "metadata": {},
   "outputs": [],
   "source": [
    "est_window.to_csv(\"est_window.csv\", index=False)"
   ]
  },
  {
   "cell_type": "code",
   "execution_count": 93,
   "id": "85451704",
   "metadata": {},
   "outputs": [
    {
     "name": "stdout",
     "output_type": "stream",
     "text": [
      "10.76544064783801\n",
      "10.583691188782703\n"
     ]
    }
   ],
   "source": [
    "#est_window[\"base_z\"].max() - est_window[\"base_z\"].min()\n",
    "print(est_window[\"base_z\"].max())\n",
    "print(est_window[\"base_z\"].min())\n",
    "# base increases --> going up steps. so the data aligns"
   ]
  }
 ],
 "metadata": {
  "kernelspec": {
   "display_name": ".venv (3.12.6)",
   "language": "python",
   "name": "python3"
  },
  "language_info": {
   "codemirror_mode": {
    "name": "ipython",
    "version": 3
   },
   "file_extension": ".py",
   "mimetype": "text/x-python",
   "name": "python",
   "nbconvert_exporter": "python",
   "pygments_lexer": "ipython3",
   "version": "3.12.6"
  }
 },
 "nbformat": 4,
 "nbformat_minor": 5
}
